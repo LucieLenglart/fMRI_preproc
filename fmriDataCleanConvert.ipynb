{
 "cells": [
  {
   "cell_type": "code",
   "execution_count": 5,
   "metadata": {},
   "outputs": [],
   "source": [
    "import csv\n",
    "import sys\n",
    "import types\n",
    "import shutil\n",
    "import pydicom\n",
    "import os\n",
    "import os.path\n",
    "import subprocess\n",
    "import numpy as np\n",
    "import pandas as pd\n",
    "import nibabel as nib\n",
    "import pyautogui\n",
    "from glob import glob\n",
    "from PIL import Image\n",
    "\n",
    "import zipfile\n",
    "from zipfile import ZipFile"
   ]
  },
  {
   "cell_type": "markdown",
   "metadata": {},
   "source": [
    "STEP 1: this first code is intended to anonimize your DICOM files. In case you want to remove information like the names, birth date, among others."
   ]
  },
  {
   "cell_type": "code",
   "execution_count": null,
   "metadata": {},
   "outputs": [],
   "source": [
    "def anonymize_dicom_tags(dataset):\n",
    "    # List of DICOM tags to be removed for anonymization\n",
    "    delete_phi_tags = [\n",
    "        (0x0010, 0x0010),  # Patient's Name\n",
    "        (0x0010, 0x0020),  # Patient ID\n",
    "        (0x0010, 0x0030),  # Patient's Birth Date\n",
    "        (0x0010, 0x1010),  # Patient's Age\n",
    "        (0x0010, 0x1020)   # Patient's Size\n",
    "    ]\n",
    "\n",
    "    # Remove identified tags\n",
    "    for tag in delete_phi_tags:\n",
    "        if tag in dataset:\n",
    "            del dataset[tag]\n",
    "\n",
    "    # Remove file meta information\n",
    "    if hasattr(dataset, \"file_meta\"):\n",
    "        dataset.file_meta.clear()\n",
    "    return dataset\n",
    "\n",
    "def getanonfiles(anonymizePath):\n",
    "    for directorypath, directorynames, filenames in os.walk(anonymizePath):\n",
    "        for filename in filenames:\n",
    "            if filename.endswith('.IMA') or filename.endswith('.dcm'):\n",
    "                selectFile = os.path.join(directorypath, filename)\n",
    "                dataset = pydicom.read_file(selectFile, force=True)\n",
    "                dataset = anonymize_dicom_tags(dataset)\n",
    "                dataset.save_as(selectFile)\n",
    "\n",
    "    print('--> Task completed.')\n",
    "\n",
    "anonymizePath = 'path/to/raw/DICOM'\n",
    "getanonfiles(anonymizePath)"
   ]
  },
  {
   "cell_type": "markdown",
   "metadata": {},
   "source": [
    "STEP 2: Conversion from DICOM to NIfTI (need to install dcm2niix w/ pip)"
   ]
  },
  {
   "cell_type": "code",
   "execution_count": null,
   "metadata": {},
   "outputs": [],
   "source": [
    "#required folders name : \"path/to/dicom\" + \"participant Anonymisation Code\"\n",
    "\n",
    "data = pyautogui.prompt('Which data do want to convert?')\n",
    "\n",
    "input_directory = \"path/to/raw/DICOM\"\n",
    "\n",
    "def convert_dicom_series(input_directory):\n",
    "    #for files in os.walk(input_directory):\n",
    "    #Herebefore Only if all subjects at the same time\n",
    "    # You might need to install 'dcm2niix'\n",
    "    command = [\"dcm2niix\", 'sub-','-f', data+'_%p_%d', '-s', 'y', '-v', '2', input_directory]\n",
    "\n",
    "    # old ; command = [\"dcm2niix\", 'sub-','-f', data+'_%p_%s', '-s', 'y', root]\n",
    "\n",
    "    # Execute the command\n",
    "    process = subprocess.Popen(command, stdout=subprocess.PIPE, stderr=subprocess.PIPE)\n",
    "    stdout, stderr = process.communicate()\n",
    "\n",
    "    # If you want to delete the original DICOM files, uncomment these lines\n",
    "    #for file in files:\n",
    "        #os.remove(os.path.join(root, file))\n",
    "\n",
    "# Call the function to convert DICOM series\n",
    "convert_dicom_series(input_directory)\n",
    "print(data)"
   ]
  },
  {
   "cell_type": "markdown",
   "metadata": {},
   "source": [
    "Step 3 - If names are not correct : rename folders with correct BIDS names"
   ]
  },
  {
   "cell_type": "code",
   "execution_count": null,
   "metadata": {},
   "outputs": [],
   "source": [
    "rootdir = r\"Bids/Directory\"\n",
    "\n",
    "# Define a prefix to be added to the new names\n",
    "new_prefix = 'sub-'\n",
    "\n",
    "counter = 1\n",
    "renaming_dict = {}\n",
    "\n",
    "for subdir in os.listdir(rootdir):\n",
    "    subdir_path = os.path.join(rootdir, subdir)\n",
    "    new_name = f'{new_prefix}{counter:02d}'\n",
    "    \n",
    "    os.rename(subdir_path, os.path.join(rootdir, new_name))\n",
    "\n",
    "    renaming_dict[subdir] = new_name\n",
    "    counter += 1\n",
    "\n",
    "# Print the alterations\n",
    "for old_name, new_name in renaming_dict.items():\n",
    "    print(f'{old_name} -> {new_name}')"
   ]
  },
  {
   "cell_type": "markdown",
   "metadata": {},
   "source": [
    "STEP 4 :  Rename files to be compatible with BIDS format"
   ]
  },
  {
   "cell_type": "code",
   "execution_count": null,
   "metadata": {},
   "outputs": [],
   "source": [
    "#The transformed BIDS data must be in a directory named as the participant's anonymisation code (e.g. sub-001)\n",
    "\n",
    "data = pyautogui.prompt('Which data do want to convert?')\n",
    "\n",
    "input_directory = \"Directory/BIDS/Files\"+ data\n",
    "\n",
    "filenames = os.listdir(input_directory)\n",
    "\n",
    "# Iterate through each filename\n",
    "for count, filename in enumerate(filenames):\n",
    "    elements = filename\n",
    "    #func - task\n",
    "        #olhos fechados\n",
    "    if \"ep2d_bold_moco_olhosfechados_resting\" in elements and \"MoCo_bas_MoCoSeries\" in elements:\n",
    "        new_filename = data+\"_task-rest_acq-MoCo_bold\"  # Replace with your desired new name\n",
    "    \n",
    "    elif \"ep2d_bold_moco_olhosfechados_resting\" in elements and \"Design\" in elements:\n",
    "        new_filename = data+\"_task-rest_acq-Design_bold\"  # Replace with your desired new name\n",
    "\n",
    "    elif \"_ep2d_bold_moco_olhosfechados_resting_ep2d_bold_moco_olhosfechados_resting\" in elements :\n",
    "        new_filename = data+\"_task-rest_acq-Raw_bold\"  # Replace with your desired new name\n",
    "\n",
    "    elif \"_ep2d_bold_moco_olhosfechados_resting\" in elements and \"EvaSeries_GLM\" in elements:\n",
    "        new_filename = data+\"_task-rest_acq-EvaGLM_bold\"  # Replace with your desired new name\n",
    "\n",
    "    elif \"_ep2d_bold_moco_olhosfechados_resting\" in elements and \"intermediate_t-Map\" in elements:\n",
    "        new_filename = data+\"_task-rest_acq-InterT_bold\"  # Replace with your desired new name\n",
    "\n",
    "    elif \"_ep2d_bold_moco_olhosfechados_resting\" in elements and \"Mean_&_t-Maps\" in elements:\n",
    "        new_filename = data+\"_task-rest_acq-MeanT_bold\"  # Replace with your desired new name\n",
    "\n",
    "    elif \"_ep2d_bold_moco_olhosfechados_resting\" in elements and \"StartFMRI\" in elements:\n",
    "        new_filename = data+\"_task-rest_acq-Start_bold\"  # Replace with your desired new name\n",
    "\n",
    "\n",
    "        #tarefa\n",
    "    elif \"ep2d_bold_moco_tarefa\" in elements and \"MoCo_bas_MoCoSeries\" in elements:\n",
    "        new_filename = data+\"_task-tarefa_acq-MoCo_bold\"  # Replace with your desired new name\n",
    "\n",
    "    elif \"ep2d_bold_moco_tarefa\" in elements and \"MoCo_bas_MoCoSeries\" in elements:\n",
    "        new_filename = data+\"_task-tarefa_acq-MoCo_bold\"  # Replace with your desired new name\n",
    "    \n",
    "    elif \"ep2d_bold_moco_tarefa\" in elements and \"Design\" in elements:\n",
    "        new_filename = data+\"_task-tarefa_acq-Design_bold\"  # Replace with your desired new name\n",
    "    \n",
    "    elif \"ep2d_bold_moco_tarefa_ep2d_bold_moco_tarefa\" in elements :\n",
    "        new_filename = data+\"_task-tarefa_acq-Raw_bold\"  # Replace with your desired new name\n",
    "    \n",
    "    elif \"ep2d_bold_moco_tarefa\" in elements and \"EvaSeries_GLM\" in elements:\n",
    "        new_filename = data+\"_task-tarefa_acq-EvaGLM_bold\"  # Replace with your desired new name\n",
    "    \n",
    "    elif \"ep2d_bold_moco_tarefa\" in elements and \"intermediate_t-Map\" in elements:\n",
    "        new_filename = data+\"_task-tarefa_acq-InterT_bold\"  # Replace with your desired new name\n",
    "    \n",
    "    elif \"ep2d_bold_moco_tarefa\" in elements and \"Mean_&_t-Maps\" in elements:\n",
    "        new_filename = data+\"_task-tarefa_acq-MeanT_bold\"  # Replace with your desired new name\n",
    "    \n",
    "    elif \"ep2d_bold_moco_tarefa\" in elements and \"StartFMRI\" in elements:\n",
    "        new_filename = data+\"_task-tarefa_acq-Start_bold\"  # Replace with your desired new name\n",
    "\n",
    "    #anat\n",
    "    elif \"t1_mpr_sag_p2_iso_\" in elements :\n",
    "        new_filename = data+\"_T1w\"  # Replace with your desired new name\n",
    "\n",
    "    #fmap\n",
    "    elif \"gre_field_mapping_\" in elements :\n",
    "        new_filename = data+\"_fieldmap\"  # Replace with your desired new name\n",
    "\n",
    "    #dwi\n",
    "    elif \"ep2d_diff_MDDW_64_p2_ep2d\" in elements :\n",
    "        new_filename = data+\"_dwi\"  # Replace with your desired new name\n",
    "    \n",
    "    elif \"ep2d_diff_MDDW_64_b0_PA_p2\" in elements :\n",
    "        new_filename = data+\"_acq-PA_dwi\"  # Replace with your desired new name\n",
    "    \n",
    "    elif \"ep2d_diff_MDDW_64_b0_AP_p2_\" in elements :\n",
    "        new_filename = data+\"_acq-AP_dwi\"  # Replace with your desired new name\n",
    "\n",
    "    else:\n",
    "        new_filename = filename  # No matching combination, keep the original name\n",
    "\n",
    "    # Rename the file\n",
    "    print(type(elements))\n",
    "    print(elements)\n",
    "    print(new_filename)\n",
    "    print(filename)\n",
    "    _, extension = os.path.splitext(filename)\n",
    "    new_filename_extension = new_filename + extension\n",
    "    os.rename(os.path.join(input_directory, filename), os.path.join(input_directory, new_filename_extension))\n",
    "\n",
    "\n"
   ]
  },
  {
   "cell_type": "markdown",
   "metadata": {},
   "source": [
    "Get header info of a specific file to check if the data are complete"
   ]
  },
  {
   "cell_type": "code",
   "execution_count": null,
   "metadata": {},
   "outputs": [],
   "source": [
    "import pydicom\n",
    "\n",
    "data = \"path/to/specific/nii/file\"\n",
    "dcm_data = pydicom.read_file(data)\n",
    "print(dcm_data)\n",
    "from nibabel.nicom import csareader as csar\n",
    "csa = csar.get_csa_header(dcm_data)\n",
    "print(csa)\n",
    "#ascii_header = csa['tags']['ep2d_bold_moco_tarefa']['items'][0]"
   ]
  },
  {
   "cell_type": "markdown",
   "metadata": {},
   "source": [
    "Check sfrom and qform matrices to check if the data were correctly converted "
   ]
  },
  {
   "cell_type": "code",
   "execution_count": null,
   "metadata": {},
   "outputs": [],
   "source": [
    "import nibabel as nib\n",
    "# Load NIfTI file\n",
    "nifti_img = nib.load(\"path/to/specific/nii/file\")\n",
    "# Access header information\n",
    "header = nifti_img.header\n",
    "\n",
    "print(header)\n",
    "print(nifti_img.get_qform(coded=True))\n",
    "print(nifti_img.get_sform(coded=True))"
   ]
  },
  {
   "cell_type": "markdown",
   "metadata": {},
   "source": [
    "Modify a specific dimension if data are incomplete or incorrect due to an error during conversion (e.g. problem with 4D matrix conversion here, leading to an incorrect number of dimensions )"
   ]
  },
  {
   "cell_type": "code",
   "execution_count": null,
   "metadata": {},
   "outputs": [],
   "source": [
    "import nibabel as nib\n",
    "\n",
    "# Load the NIfTI file\n",
    "nifti_file_path = (\"path/to/specific/nii/file\")\n",
    "img = nib.load(nifti_file_path)\n",
    "\n",
    "# Access the header\n",
    "header = img.header\n",
    "\n",
    "# Modify the dim[3] value\n",
    "header['dim'][3] = 50\n",
    "\n",
    "\n",
    "# Save the modified NIfTI file\n",
    "nib.save(img, 'name of the nii file')"
   ]
  },
  {
   "cell_type": "markdown",
   "metadata": {},
   "source": [
    "Specific to the 4D conversion problem due to incomplete header info :\n",
    "Add dicom tags corresponding to slice number ((0019,100A), Number Of Images In Mosaic) to enable a correct conversion for functional data\n",
    "\n"
   ]
  },
  {
   "cell_type": "code",
   "execution_count": 3,
   "metadata": {},
   "outputs": [],
   "source": [
    "import pydicom\n",
    "from pydicom import dcmread\n",
    "import os\n",
    "dicom_paths = \"path/to/the/incomplete/dicom\" #copy of the original raw dicom!\n",
    "\n",
    "for s in os.listdir(dicom_paths):\n",
    "    ds = dcmread((dicom_paths + \"/\" + s), force  = True)\n",
    "    ds.add_new([0x0019,0x100A], 'US', 50) # cat. \"US\"\n",
    "    ds.save_as(dicom_paths + \"/\" + s)\n",
    "    "
   ]
  },
  {
   "cell_type": "markdown",
   "metadata": {},
   "source": [
    "read dicom to check info "
   ]
  },
  {
   "cell_type": "code",
   "execution_count": null,
   "metadata": {},
   "outputs": [],
   "source": [
    "import pydicom\n",
    "from pydicom import dcmread\n",
    "import os\n",
    "dicom_paths =\"path/to/the/now/completed/dicom\"\n",
    "for s in os.listdir(dicom_paths):\n",
    "    ds = dcmread((dicom_paths + \"/\" + s), force  = True)\n",
    "    print(ds)"
   ]
  },
  {
   "cell_type": "markdown",
   "metadata": {},
   "source": [
    "Another way to read CSA header from DICOM "
   ]
  },
  {
   "cell_type": "code",
   "execution_count": null,
   "metadata": {},
   "outputs": [],
   "source": [
    "from dicom_parser import Image\n",
    "from dicom_parser.utils.siemens.csa.header import CsaHeader\n",
    "\n",
    "image = Image(\"path/to/any/dicom\")\n",
    "csa = image.header.get(\"CSAImageHeaderInfo\")\n",
    "raw_csa = image.header.get(\"CSAImageHeaderInfo\", parsed=False)\n",
    "\n",
    "print(csa)\n",
    "\n"
   ]
  }
 ],
 "metadata": {
  "kernelspec": {
   "display_name": "Python 3",
   "language": "python",
   "name": "python3"
  },
  "language_info": {
   "codemirror_mode": {
    "name": "ipython",
    "version": 3
   },
   "file_extension": ".py",
   "mimetype": "text/x-python",
   "name": "python",
   "nbconvert_exporter": "python",
   "pygments_lexer": "ipython3",
   "version": "3.12.2"
  }
 },
 "nbformat": 4,
 "nbformat_minor": 2
}
